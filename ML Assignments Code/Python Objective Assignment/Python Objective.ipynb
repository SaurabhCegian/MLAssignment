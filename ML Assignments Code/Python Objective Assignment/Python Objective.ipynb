{
 "cells": [
  {
   "cell_type": "raw",
   "metadata": {},
   "source": [
    "Q1. How can we create an iterator object from a list?\n",
    "Ans - a) Bypassing the given list to the iter() function"
   ]
  },
  {
   "cell_type": "raw",
   "metadata": {},
   "source": [
    "Q2. If the function contains at least of one “yield” statement, then it becomes ______\n",
    "\n",
    "Ans - b) a generator function"
   ]
  },
  {
   "cell_type": "raw",
   "metadata": {},
   "source": [
    "Q3. What is the output of the code?\n",
    "\n",
    "mylist = [1, 3, 6, 10]\n",
    "a = (x**2 for x in mylist)\n",
    "print(next(a), next(a))\n",
    "\n",
    "Ans - b) 1 9"
   ]
  },
  {
   "cell_type": "raw",
   "metadata": {},
   "source": [
    "Q4. What are the criteria that must be met to create closure in Python?\n",
    "Ans - A"
   ]
  },
  {
   "cell_type": "raw",
   "metadata": {},
   "source": [
    "Q5. What is the output of the code?\n",
    "Ans - d) 50"
   ]
  },
  {
   "cell_type": "raw",
   "metadata": {},
   "source": [
    "Q6. What is the output of the code?\n",
    "Ans - c) I got decorated \n",
    "        I am ordinary"
   ]
  },
  {
   "cell_type": "raw",
   "metadata": {},
   "source": [
    "Q7: What is the more pythonic way to use getters and setters?\n",
    "Ans - d) @property"
   ]
  },
  {
   "cell_type": "raw",
   "metadata": {},
   "source": [
    "Q8. In Python, there is a built-in function property() that returns a property object. The property object has which of the methods?\n",
    "Ans - b) getter(), setter() and delete()"
   ]
  },
  {
   "cell_type": "raw",
   "metadata": {},
   "source": [
    "Q9. Which of the following statement is true?\n",
    "Ans - d) None of the above"
   ]
  },
  {
   "cell_type": "raw",
   "metadata": {},
   "source": [
    "Q10. For the following codes, which of the following statements is true?\n",
    "Ans - b) Both printHello() and the reference to the same object."
   ]
  },
  {
   "cell_type": "raw",
   "metadata": {},
   "source": [
    "Q11. What is the output of the program?\n",
    "Ans - c)a = 20"
   ]
  },
  {
   "cell_type": "raw",
   "metadata": {},
   "source": [
    "Q12. Which of the following statements is true?\n",
    "Ans - a) A class is a blueprint for the object."
   ]
  },
  {
   "cell_type": "raw",
   "metadata": {},
   "source": [
    " Q13. What is the output of the code?\n",
    "Ans - c) Java"
   ]
  },
  {
   "cell_type": "raw",
   "metadata": {},
   "source": [
    "Q14. What is the function of the __init__() function in Python?\n",
    "Ans - b) This function is called, when the new object is instantiated"
   ]
  },
  {
   "cell_type": "raw",
   "metadata": {},
   "source": [
    "Q15. What is the output of the code?\n",
    "Ans - b) 1 1"
   ]
  },
  {
   "cell_type": "raw",
   "metadata": {},
   "source": [
    "Q16. Which of the following code used the inheritance feature?\n",
    "Ans - c) \n",
    "class Foo:\n",
    "    pass\n",
    "class Hoo(Foo): \n",
    "    pass"
   ]
  },
  {
   "cell_type": "raw",
   "metadata": {},
   "source": [
    "Q17 If you a class is derived from two different classes, it’s called\n",
    "Ans - b) Multiple Inheritance"
   ]
  },
  {
   "cell_type": "raw",
   "metadata": {},
   "source": [
    "Q18. Which of the following statements is true?\n",
    "Ans - d) All of the above."
   ]
  },
  {
   "cell_type": "raw",
   "metadata": {},
   "source": [
    "Q19. What is the output of the code?\n",
    "Ans - b) 4 6"
   ]
  },
  {
   "cell_type": "raw",
   "metadata": {},
   "source": [
    "Q20. Opening a file in ‘a’ mode\n",
    "Ans - c) opens the file for appending, at the end of file"
   ]
  },
  {
   "cell_type": "raw",
   "metadata": {},
   "source": [
    "Q21. What does the following code do? \n",
    "f = open(\"test.txt\")\n",
    "Ans - a) Opens test.txt file for both reading and writing"
   ]
  },
  {
   "cell_type": "raw",
   "metadata": {},
   "source": [
    "Q22. Which of the codes closes files automatically if an exception occurs?\n",
    "Ans - d) Both of the above"
   ]
  },
  {
   "cell_type": "raw",
   "metadata": {},
   "source": [
    "Q23. For the following code,\n",
    "f = open('test.txt', 'r', encoding = 'utf-8')\n",
    "f.read() \n",
    "Which of the following statement is true\n",
    "\n",
    "Ans- d) All of the above."
   ]
  },
  {
   "cell_type": "raw",
   "metadata": {},
   "source": [
    "Q24. What does the following code do? \n",
    "os.listdir()\n",
    "\n",
    "Ans - c) Prints all the directories and files inside the given directory"
   ]
  },
  {
   "cell_type": "raw",
   "metadata": {},
   "source": [
    "Q25. Which of the following is correct?\n",
    "Ans - a) An exception is an error that occurs in the runtime."
   ]
  },
  {
   "cell_type": "raw",
   "metadata": {},
   "source": [
    "Q26. What will happen if we try to open the file that doesn’t exist?\n",
    "Ans - c) An exception is raised."
   ]
  },
  {
   "cell_type": "raw",
   "metadata": {},
   "source": [
    "Q27. What is the output of the code?\n",
    "Ans - b) 2.0"
   ]
  },
  {
   "cell_type": "raw",
   "metadata": {},
   "source": [
    "Q28. What does the following code do?\n",
    "Ans - c) Prints Two if the TypeError or ZeroDivisionError exception occurs."
   ]
  },
  {
   "cell_type": "raw",
   "metadata": {},
   "source": [
    "Q29. Which of the following statement is true?\n"
   ]
  },
  {
   "cell_type": "raw",
   "metadata": {},
   "source": [
    "Q30 - C"
   ]
  },
  {
   "cell_type": "raw",
   "metadata": {},
   "source": [
    "Q31 - B"
   ]
  },
  {
   "cell_type": "raw",
   "metadata": {},
   "source": [
    "Q32 - B"
   ]
  },
  {
   "cell_type": "raw",
   "metadata": {},
   "source": [
    "Q33 - B"
   ]
  },
  {
   "cell_type": "raw",
   "metadata": {},
   "source": [
    "Q34 - B"
   ]
  },
  {
   "cell_type": "raw",
   "metadata": {},
   "source": [
    "Q35 - C"
   ]
  },
  {
   "cell_type": "raw",
   "metadata": {},
   "source": [
    "Q36 - A"
   ]
  },
  {
   "cell_type": "raw",
   "metadata": {},
   "source": [
    "Q37 - C"
   ]
  },
  {
   "cell_type": "raw",
   "metadata": {},
   "source": [
    "Q38 - A"
   ]
  },
  {
   "cell_type": "raw",
   "metadata": {},
   "source": [
    "Q39 - B"
   ]
  },
  {
   "cell_type": "raw",
   "metadata": {},
   "source": [
    "Q40 - C"
   ]
  },
  {
   "cell_type": "raw",
   "metadata": {},
   "source": [
    "Q41 - A"
   ]
  },
  {
   "cell_type": "raw",
   "metadata": {},
   "source": [
    "Q42 - A"
   ]
  },
  {
   "cell_type": "raw",
   "metadata": {},
   "source": [
    "Q43 - C"
   ]
  },
  {
   "cell_type": "raw",
   "metadata": {},
   "source": [
    "Q44 - B"
   ]
  },
  {
   "cell_type": "raw",
   "metadata": {},
   "source": [
    "Q45 - C"
   ]
  },
  {
   "cell_type": "raw",
   "metadata": {},
   "source": [
    "Q46 - B"
   ]
  },
  {
   "cell_type": "raw",
   "metadata": {},
   "source": [
    "Q47 - D"
   ]
  },
  {
   "cell_type": "raw",
   "metadata": {},
   "source": [
    "Q48 - A"
   ]
  },
  {
   "cell_type": "raw",
   "metadata": {},
   "source": [
    "Q49 - C"
   ]
  },
  {
   "cell_type": "raw",
   "metadata": {},
   "source": [
    "Q50 - C"
   ]
  },
  {
   "cell_type": "raw",
   "metadata": {},
   "source": [
    "Q51 - A"
   ]
  },
  {
   "cell_type": "raw",
   "metadata": {},
   "source": [
    "Q52 - B"
   ]
  },
  {
   "cell_type": "raw",
   "metadata": {},
   "source": [
    "Q53 - B"
   ]
  },
  {
   "cell_type": "raw",
   "metadata": {},
   "source": [
    "Q54 - C"
   ]
  },
  {
   "cell_type": "raw",
   "metadata": {},
   "source": [
    "Q55 - C"
   ]
  },
  {
   "cell_type": "raw",
   "metadata": {},
   "source": [
    "Q56 - A"
   ]
  },
  {
   "cell_type": "raw",
   "metadata": {},
   "source": [
    "Q57 - B"
   ]
  },
  {
   "cell_type": "raw",
   "metadata": {},
   "source": [
    "Q58 - C"
   ]
  },
  {
   "cell_type": "raw",
   "metadata": {},
   "source": [
    "Q59 - A"
   ]
  },
  {
   "cell_type": "raw",
   "metadata": {},
   "source": [
    "Q60 - A"
   ]
  },
  {
   "cell_type": "raw",
   "metadata": {},
   "source": [
    "Q61 - D"
   ]
  },
  {
   "cell_type": "raw",
   "metadata": {},
   "source": [
    "Q62 - A"
   ]
  },
  {
   "cell_type": "raw",
   "metadata": {},
   "source": [
    "Q63 - B"
   ]
  },
  {
   "cell_type": "raw",
   "metadata": {},
   "source": [
    "Q64 - A"
   ]
  },
  {
   "cell_type": "raw",
   "metadata": {},
   "source": [
    "Q66 - B"
   ]
  },
  {
   "cell_type": "raw",
   "metadata": {},
   "source": [
    "Q67 - A"
   ]
  },
  {
   "cell_type": "raw",
   "metadata": {},
   "source": [
    "Q68 - D"
   ]
  },
  {
   "cell_type": "raw",
   "metadata": {},
   "source": [
    "Q69 -  A"
   ]
  },
  {
   "cell_type": "raw",
   "metadata": {},
   "source": [
    "Q70 - A"
   ]
  },
  {
   "cell_type": "code",
   "execution_count": null,
   "metadata": {},
   "outputs": [],
   "source": [
    "Q71 - C"
   ]
  },
  {
   "cell_type": "code",
   "execution_count": null,
   "metadata": {},
   "outputs": [],
   "source": [
    "Q72 - B"
   ]
  },
  {
   "cell_type": "code",
   "execution_count": null,
   "metadata": {},
   "outputs": [],
   "source": [
    "Q73 - A"
   ]
  },
  {
   "cell_type": "code",
   "execution_count": null,
   "metadata": {},
   "outputs": [],
   "source": [
    "Q74 - D"
   ]
  },
  {
   "cell_type": "code",
   "execution_count": null,
   "metadata": {},
   "outputs": [],
   "source": [
    "Q75 - B"
   ]
  },
  {
   "cell_type": "code",
   "execution_count": null,
   "metadata": {},
   "outputs": [],
   "source": [
    "Q76 - A"
   ]
  },
  {
   "cell_type": "code",
   "execution_count": null,
   "metadata": {},
   "outputs": [],
   "source": [
    "Q77 - A"
   ]
  },
  {
   "cell_type": "code",
   "execution_count": null,
   "metadata": {},
   "outputs": [],
   "source": [
    "Q78 - D"
   ]
  },
  {
   "cell_type": "code",
   "execution_count": null,
   "metadata": {},
   "outputs": [],
   "source": [
    "Q79 - B"
   ]
  },
  {
   "cell_type": "code",
   "execution_count": null,
   "metadata": {},
   "outputs": [],
   "source": [
    "Q80 - D"
   ]
  },
  {
   "cell_type": "code",
   "execution_count": null,
   "metadata": {},
   "outputs": [],
   "source": [
    "Q81 - C"
   ]
  },
  {
   "cell_type": "code",
   "execution_count": null,
   "metadata": {},
   "outputs": [],
   "source": [
    "Q82 - A"
   ]
  },
  {
   "cell_type": "code",
   "execution_count": null,
   "metadata": {},
   "outputs": [],
   "source": [
    "Q83 - A"
   ]
  },
  {
   "cell_type": "code",
   "execution_count": null,
   "metadata": {},
   "outputs": [],
   "source": [
    "Q84 - C"
   ]
  },
  {
   "cell_type": "code",
   "execution_count": null,
   "metadata": {},
   "outputs": [],
   "source": [
    "Q85 - D"
   ]
  },
  {
   "cell_type": "code",
   "execution_count": null,
   "metadata": {},
   "outputs": [],
   "source": [
    "Q86 - A"
   ]
  },
  {
   "cell_type": "code",
   "execution_count": null,
   "metadata": {},
   "outputs": [],
   "source": [
    "Q87 - B"
   ]
  },
  {
   "cell_type": "code",
   "execution_count": null,
   "metadata": {},
   "outputs": [],
   "source": [
    "Q88 - D"
   ]
  },
  {
   "cell_type": "code",
   "execution_count": null,
   "metadata": {},
   "outputs": [],
   "source": [
    "Q89 - C"
   ]
  },
  {
   "cell_type": "code",
   "execution_count": null,
   "metadata": {},
   "outputs": [],
   "source": [
    "Q90 - C"
   ]
  },
  {
   "cell_type": "code",
   "execution_count": null,
   "metadata": {},
   "outputs": [],
   "source": [
    "Q91 - B"
   ]
  },
  {
   "cell_type": "code",
   "execution_count": null,
   "metadata": {},
   "outputs": [],
   "source": [
    "Q92 - C"
   ]
  },
  {
   "cell_type": "code",
   "execution_count": null,
   "metadata": {},
   "outputs": [],
   "source": [
    "Q93 - D"
   ]
  },
  {
   "cell_type": "code",
   "execution_count": null,
   "metadata": {},
   "outputs": [],
   "source": [
    "Q94 - D"
   ]
  },
  {
   "cell_type": "code",
   "execution_count": null,
   "metadata": {},
   "outputs": [],
   "source": [
    "Q95 - B"
   ]
  },
  {
   "cell_type": "code",
   "execution_count": null,
   "metadata": {},
   "outputs": [],
   "source": [
    "Q96 - D"
   ]
  },
  {
   "cell_type": "code",
   "execution_count": null,
   "metadata": {},
   "outputs": [],
   "source": [
    "Q97 - C"
   ]
  },
  {
   "cell_type": "code",
   "execution_count": null,
   "metadata": {},
   "outputs": [],
   "source": [
    "Q98 - C"
   ]
  },
  {
   "cell_type": "code",
   "execution_count": null,
   "metadata": {},
   "outputs": [],
   "source": [
    "Q99 - B"
   ]
  },
  {
   "cell_type": "code",
   "execution_count": null,
   "metadata": {},
   "outputs": [],
   "source": [
    "Q100 - A"
   ]
  },
  {
   "cell_type": "code",
   "execution_count": null,
   "metadata": {},
   "outputs": [],
   "source": [
    "Q101 - C"
   ]
  },
  {
   "cell_type": "code",
   "execution_count": null,
   "metadata": {},
   "outputs": [],
   "source": [
    "Q102 - A"
   ]
  },
  {
   "cell_type": "code",
   "execution_count": null,
   "metadata": {},
   "outputs": [],
   "source": [
    "Q103 - A"
   ]
  },
  {
   "cell_type": "code",
   "execution_count": null,
   "metadata": {},
   "outputs": [],
   "source": [
    "Q104 - D"
   ]
  },
  {
   "cell_type": "code",
   "execution_count": null,
   "metadata": {},
   "outputs": [],
   "source": [
    "Q105 - B"
   ]
  },
  {
   "cell_type": "code",
   "execution_count": null,
   "metadata": {},
   "outputs": [],
   "source": [
    "Q106 - A"
   ]
  },
  {
   "cell_type": "code",
   "execution_count": null,
   "metadata": {},
   "outputs": [],
   "source": [
    "Q107 - A"
   ]
  },
  {
   "cell_type": "code",
   "execution_count": null,
   "metadata": {},
   "outputs": [],
   "source": [
    "Q108 - B"
   ]
  },
  {
   "cell_type": "code",
   "execution_count": null,
   "metadata": {},
   "outputs": [],
   "source": [
    "Q109 - A"
   ]
  },
  {
   "cell_type": "code",
   "execution_count": null,
   "metadata": {},
   "outputs": [],
   "source": [
    "Q110 - D"
   ]
  },
  {
   "cell_type": "code",
   "execution_count": null,
   "metadata": {},
   "outputs": [],
   "source": [
    "Q111 - C"
   ]
  },
  {
   "cell_type": "code",
   "execution_count": null,
   "metadata": {},
   "outputs": [],
   "source": [
    "Q112 - B"
   ]
  },
  {
   "cell_type": "code",
   "execution_count": null,
   "metadata": {},
   "outputs": [],
   "source": [
    "Q113 - A"
   ]
  },
  {
   "cell_type": "code",
   "execution_count": null,
   "metadata": {},
   "outputs": [],
   "source": [
    "Q114 - B"
   ]
  },
  {
   "cell_type": "code",
   "execution_count": null,
   "metadata": {},
   "outputs": [],
   "source": [
    "Q115 - C"
   ]
  },
  {
   "cell_type": "code",
   "execution_count": null,
   "metadata": {},
   "outputs": [],
   "source": [
    "Q116 - B"
   ]
  },
  {
   "cell_type": "code",
   "execution_count": null,
   "metadata": {},
   "outputs": [],
   "source": [
    "Q117 - B"
   ]
  },
  {
   "cell_type": "code",
   "execution_count": null,
   "metadata": {},
   "outputs": [],
   "source": [
    "Q118 - C"
   ]
  },
  {
   "cell_type": "code",
   "execution_count": null,
   "metadata": {},
   "outputs": [],
   "source": [
    "Q119 - A"
   ]
  },
  {
   "cell_type": "code",
   "execution_count": null,
   "metadata": {},
   "outputs": [],
   "source": [
    "Q120 - A"
   ]
  },
  {
   "cell_type": "code",
   "execution_count": null,
   "metadata": {},
   "outputs": [],
   "source": [
    "Q121 - C"
   ]
  },
  {
   "cell_type": "code",
   "execution_count": null,
   "metadata": {},
   "outputs": [],
   "source": [
    "Q122 - D"
   ]
  },
  {
   "cell_type": "code",
   "execution_count": null,
   "metadata": {},
   "outputs": [],
   "source": [
    "Q123 - A"
   ]
  },
  {
   "cell_type": "code",
   "execution_count": null,
   "metadata": {},
   "outputs": [],
   "source": [
    "Q124 - A"
   ]
  },
  {
   "cell_type": "code",
   "execution_count": null,
   "metadata": {},
   "outputs": [],
   "source": [
    "Q125 - C"
   ]
  },
  {
   "cell_type": "code",
   "execution_count": null,
   "metadata": {},
   "outputs": [],
   "source": [
    "Q126 - A"
   ]
  },
  {
   "cell_type": "code",
   "execution_count": null,
   "metadata": {},
   "outputs": [],
   "source": [
    "Q127 - B"
   ]
  },
  {
   "cell_type": "code",
   "execution_count": null,
   "metadata": {},
   "outputs": [],
   "source": [
    "Q128 - C"
   ]
  },
  {
   "cell_type": "code",
   "execution_count": null,
   "metadata": {},
   "outputs": [],
   "source": [
    "Q129 - A"
   ]
  },
  {
   "cell_type": "code",
   "execution_count": null,
   "metadata": {},
   "outputs": [],
   "source": [
    "Q130 - A"
   ]
  },
  {
   "cell_type": "code",
   "execution_count": null,
   "metadata": {},
   "outputs": [],
   "source": [
    "Q131 - A"
   ]
  },
  {
   "cell_type": "code",
   "execution_count": null,
   "metadata": {},
   "outputs": [],
   "source": [
    "Q132 - A"
   ]
  },
  {
   "cell_type": "code",
   "execution_count": null,
   "metadata": {},
   "outputs": [],
   "source": [
    "Q133 - A"
   ]
  },
  {
   "cell_type": "code",
   "execution_count": null,
   "metadata": {},
   "outputs": [],
   "source": [
    "Q134 - A"
   ]
  },
  {
   "cell_type": "code",
   "execution_count": null,
   "metadata": {},
   "outputs": [],
   "source": [
    "Q135 - C"
   ]
  },
  {
   "cell_type": "code",
   "execution_count": null,
   "metadata": {},
   "outputs": [],
   "source": [
    "Q136 - B"
   ]
  },
  {
   "cell_type": "code",
   "execution_count": null,
   "metadata": {},
   "outputs": [],
   "source": [
    "Q137 - B"
   ]
  },
  {
   "cell_type": "code",
   "execution_count": null,
   "metadata": {},
   "outputs": [],
   "source": [
    "Q138 - A"
   ]
  },
  {
   "cell_type": "code",
   "execution_count": null,
   "metadata": {},
   "outputs": [],
   "source": [
    "Q139 - B"
   ]
  },
  {
   "cell_type": "code",
   "execution_count": null,
   "metadata": {},
   "outputs": [],
   "source": [
    "Q140 - A"
   ]
  },
  {
   "cell_type": "code",
   "execution_count": null,
   "metadata": {},
   "outputs": [],
   "source": [
    "Q141 - B"
   ]
  },
  {
   "cell_type": "code",
   "execution_count": null,
   "metadata": {},
   "outputs": [],
   "source": [
    "Q142 - D"
   ]
  },
  {
   "cell_type": "code",
   "execution_count": null,
   "metadata": {},
   "outputs": [],
   "source": [
    "Q143 - D"
   ]
  },
  {
   "cell_type": "code",
   "execution_count": null,
   "metadata": {},
   "outputs": [],
   "source": [
    "Q144 - A"
   ]
  },
  {
   "cell_type": "code",
   "execution_count": null,
   "metadata": {},
   "outputs": [],
   "source": [
    "Q145 - A"
   ]
  },
  {
   "cell_type": "code",
   "execution_count": null,
   "metadata": {},
   "outputs": [],
   "source": [
    "Q146 - A"
   ]
  },
  {
   "cell_type": "code",
   "execution_count": null,
   "metadata": {},
   "outputs": [],
   "source": [
    "Q147 - B"
   ]
  },
  {
   "cell_type": "code",
   "execution_count": null,
   "metadata": {},
   "outputs": [],
   "source": [
    "Q148 - A"
   ]
  },
  {
   "cell_type": "code",
   "execution_count": null,
   "metadata": {},
   "outputs": [],
   "source": [
    "Q149 - B"
   ]
  },
  {
   "cell_type": "code",
   "execution_count": null,
   "metadata": {},
   "outputs": [],
   "source": [
    "Q152 - A"
   ]
  }
 ],
 "metadata": {
  "kernelspec": {
   "display_name": "Python 3",
   "language": "python",
   "name": "python3"
  },
  "language_info": {
   "codemirror_mode": {
    "name": "ipython",
    "version": 3
   },
   "file_extension": ".py",
   "mimetype": "text/x-python",
   "name": "python",
   "nbconvert_exporter": "python",
   "pygments_lexer": "ipython3",
   "version": "3.7.2"
  }
 },
 "nbformat": 4,
 "nbformat_minor": 2
}
